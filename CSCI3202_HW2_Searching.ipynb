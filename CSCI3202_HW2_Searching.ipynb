{
 "cells": [
  {
   "cell_type": "markdown",
   "metadata": {},
   "source": [
    "## <a id='top'></a>\n",
    "\n",
    "# CSCI 3202, Fall 2020\n",
    "# Assignment 2\n",
    "# Due: Friday 25 September 2020 by 11:59 PM\n",
    "\n",
    "<br> \n",
    "\n",
    "### Your name: Jeremy M. Hein\n",
    "\n",
    "<br> "
   ]
  },
  {
   "attachments": {
    "image.png": {
     "image/png": "[encoded data removed]"
    }
   },
   "cell_type": "markdown",
   "metadata": {},
   "source": [
    "## Problem 1 (15 points)\n",
    "\n",
    "Consider the directed state space graph below.\n",
    "\n",
    "![image.png](attachment:image.png)\n",
    "\n",
    "Suppose we wish to find the shortest edge-length path from the start node `S` to the goal node `G`.  Additionally, we have access to the heuristic of \"straight line distance from the given node to `G`.\"\n",
    "\n",
    "\n",
    "For each of the following search algorithms, what is the full route chosen from `S` to `G`?  For any algorithms that require an order by which to choose/queue equivalent nodes, assume that we open nodes alphabetically.\n",
    "\n",
    "#### 1a) Breadth-First Search"
   ]
  },
  {
   "cell_type": "markdown",
   "metadata": {},
   "source": [
    "Explored: {S} Frontier: {A, B, C, E}\n",
    "\n",
    "Explored: {S, A} Frontier: {B, C, E, F}\n",
    "\n",
    "Explored: {S, A, B} Frontier: {C, E, F, H}\n",
    "\n",
    "Explored: {S, A, B, C} Frontier: {E, F, H}\n",
    "\n",
    "Explored: {S, A, B, C, E} Frontier: {F, H, D}\n",
    "\n",
    "Explored: {S, A, B, C, E, F} Frontier: {H, D, J}\n",
    "\n",
    "Explored: {S, A, B, C, E, F, H} Frontier: {D, J, G}\n",
    "\n",
    "\n",
    "Final Path: S -> B -> H -> G"
   ]
  },
  {
   "cell_type": "markdown",
   "metadata": {},
   "source": [
    "#### 1b) Depth-First Search"
   ]
  },
  {
   "cell_type": "markdown",
   "metadata": {},
   "source": [
    "Explored: {S} Frontier: {A, B, C, E}\n",
    "\n",
    "Explored: {S, A} Frontier: {B, C, E, F}\n",
    "\n",
    "Explored: {S, A, F} Frontier: {B, C, E, J}\n",
    "\n",
    "Explored: {S, A, F, J} Frontier: {B, C, E, I}\n",
    "\n",
    "Explored: {S, A, F, J, I} Frontier: {B, C, E}\n",
    "\n",
    "Explored: {S, A, F, J, I, E} Frontier: {B, C, D}\n",
    "\n",
    "Explored: {S, A, F, J, I, E, D} Frontier: {B, C}\n",
    "\n",
    "Explored: {S, A, F, J, I, E, D, C} Frontier: {B}\n",
    "\n",
    "Explored: {S, A, F, J, I, E, D, C, B} Frontier: {H}\n",
    "\n",
    "Explored: {S, A, F, J, I, E, D, C, B, H} Frontier: {G, Z}\n",
    "\n",
    "Final Path: S -> A -> F -> J -> I -> E -> D -> C -> B -> H -> G"
   ]
  },
  {
   "cell_type": "markdown",
   "metadata": {},
   "source": [
    "#### 1c) Greedy Best-First, with straight-line-distance heuristic\n"
   ]
  },
  {
   "cell_type": "markdown",
   "metadata": {},
   "source": [
    "Current: {S} Frontier: {A, B, C, E}\n",
    "\n",
    "Current: {A} Frontier: {F}\n",
    "\n",
    "Current: {F} Frontier: {J}\n",
    "\n",
    "Current: {J} Frontier: {I}\n",
    "\n",
    "Current: {I} Frontier: {F,E}\n",
    "\n",
    "Current: {F} Frontier: {J}\n",
    "\n",
    "Current: {J} Frontier: {I}\n",
    "\n",
    "Current: {I} Frontier: {F,E}\n",
    "\n",
    "Current: {F} Frontier: {J}\n",
    ".\n",
    ".\n",
    ".\n",
    "\n",
    "Our Greedy Best-First algorithm doesn't maintain an active memory of where it's been.  It only considers the nodes immediately next to it's current state, and chooses the one based on the heuristic.  In this case, it will choose A -> F -> J as those are the closest to the end goal.  However since, this is a directional graph, it will keep repeating the cycle from J-> I-> F-> J because it will never choose the path I -> E, as E is further away from the goal state than F.  So it will never find a solution path."
   ]
  },
  {
   "cell_type": "markdown",
   "metadata": {},
   "source": [
    "#### 1d) A$^*$, with straight-line-distance heuristic\n"
   ]
  },
  {
   "cell_type": "markdown",
   "metadata": {},
   "source": [
    "It would end with the optimal path S->B->H->G"
   ]
  },
  {
   "cell_type": "markdown",
   "metadata": {},
   "source": [
    "#### 1e) Describe what properties of this graph may or may not have led to different paths from the algorithms above."
   ]
  },
  {
   "cell_type": "markdown",
   "metadata": {},
   "source": [
    "The graph is directional, which led to non-optimal paths for two of our four algorithms.  This acted as an obstacle for all of the algorithms that chose to go to node A with it's first move.  In particular, it led the Greedy algorithm to get stuck in a loop.  For the Greedy and the A* algorithms, the choice to go to node A first is due to how we defined the heuristic.  In the case of DFS, it is because we prioritized nodes in alphabetical order.  While A* does find the optimal route, it still expands the nodes A, F, J, I, and (likely) E, before looking at the route S->B."
   ]
  },
  {
   "cell_type": "markdown",
   "metadata": {},
   "source": [
    "\n",
    "\n",
    "## Problem 2 (30 points)\n",
    "\n",
    "### Escape from Chicago\n",
    "\n",
    "It is the year 2030 and a freak earthquake has caused Chicago to break off from the mainland of Illinois. It has drifted out into Lake Michigan and is now used as a penal colony for the United States' worst criminals.  Snake Plisskin, world-famous tough guy and amateur sea lion enthusiast, must travel from Chicago to New York to find the antidote to the *Plutoxin 7 poison* that he and many other Chicagoans have been infected with.\n",
    "\n",
    "Below are crude graphs, representing the northeastern United States.  The graph on the left, **map_distances**, represents the step costs between two states on the graph (cities) using the distance between the two cities along major highways.  On the right, **map_times** represents the step costs using estimated travel time (at 5 PM on a Friday, east coast time).  These graphs are defined in the helper routines at below.\n",
    "\n",
    "If you take a look at those graphs, you will notice that for brevity's sake, we will use **lowercase** abbreviations for each city, consisting of the **first 3 letters** of the city's name.  So Providence is represented by the state 'pro', for example.\n",
    "\n"
   ]
  },
  {
   "cell_type": "code",
   "execution_count": 1,
   "metadata": {},
   "outputs": [],
   "source": [
    "import numpy as np\n",
    "import matplotlib.pyplot as plt\n",
    "from matplotlib import colors\n",
    "from collections import deque\n",
    "import heapq\n",
    "import unittest\n",
    "from scipy import stats"
   ]
  },
  {
   "cell_type": "markdown",
   "metadata": {},
   "source": [
    "**map_distances**          |  **map_times**\n",
    ":-------------------------:|:-------------------------:\n",
    "<img src=\"http://drive.google.com/uc?export=view&id=1j6Kam3F7ET-aIzT-6KMxaW7D7r8WAOME\" alt=\"Drawing\" style=\"width: 550px;\"/>  | <img src=\"http://drive.google.com/uc?export=view&id=1rI5w8CuWOS9reMIewc2IDBp_Z3pSUu1H\" alt=\"Drawing\" style=\"width: 550px;\"/>"
   ]
  },
  {
   "cell_type": "markdown",
   "metadata": {},
   "source": [
    "### Useful helper routines for searching"
   ]
  },
  {
   "cell_type": "code",
   "execution_count": 2,
   "metadata": {},
   "outputs": [],
   "source": [
    "def path(previous, s): \n",
    "    '''\n",
    "    `previous` is a dictionary chaining together the predecessor state that led to each state\n",
    "    `s` will be None for the initial state\n",
    "    otherwise, start from the last state `s` and recursively trace `previous` back to the initial state,\n",
    "    constructing a list of states visited as we go\n",
    "    '''\n",
    "    if s is None:\n",
    "        return []\n",
    "    else:\n",
    "        return path(previous, previous[s])+[s]\n",
    "\n",
    "def pathcost(path, step_costs):\n",
    "    '''\n",
    "    add up the step costs along a path, which is assumed to be a list output from the `path` function above\n",
    "    '''\n",
    "    cost = 0\n",
    "    for s in range(len(path)-1):\n",
    "        cost += step_costs[path[s]][path[s+1]]\n",
    "    return cost"
   ]
  },
  {
   "cell_type": "code",
   "execution_count": 3,
   "metadata": {},
   "outputs": [],
   "source": [
    "map_distances = dict(\n",
    "    chi=dict(det=283, cle=345, ind=182),\n",
    "    cle=dict(chi=345, det=169, col=144, pit=134, buf=189),\n",
    "    ind=dict(chi=182, col=176),\n",
    "    col=dict(ind=176, cle=144, pit=185),\n",
    "    det=dict(chi=283, cle=169, buf=256),\n",
    "    buf=dict(det=256, cle=189, pit=215, syr=150),\n",
    "    pit=dict(col=185, cle=134, buf=215, phi=305, bal=247),\n",
    "    syr=dict(buf=150, phi=253, new=254, bos=312),\n",
    "    bal=dict(phi=101, pit=247),\n",
    "    phi=dict(pit=305, bal=101, syr=253, new=97),\n",
    "    new=dict(syr=254, phi=97, bos=215, pro=181),\n",
    "    pro=dict(bos=50, new=181),\n",
    "    bos=dict(pro=50, new=215, syr=312, por=107),\n",
    "    por=dict(bos=107))\n",
    "\n",
    "map_times = dict(\n",
    "    chi=dict(det=280, cle=345, ind=200),\n",
    "    cle=dict(chi=345, det=170, col=155, pit=145, buf=185),\n",
    "    ind=dict(chi=200, col=175),\n",
    "    col=dict(ind=175, cle=155, pit=185),\n",
    "    det=dict(chi=280, cle=170, buf=270),\n",
    "    buf=dict(det=270, cle=185, pit=215, syr=145),\n",
    "    pit=dict(col=185, cle=145, buf=215, phi=305, bal=255),\n",
    "    syr=dict(buf=145, phi=245, new=260, bos=290),\n",
    "    bal=dict(phi=145, pit=255),\n",
    "    phi=dict(pit=305, bal=145, syr=245, new=150),\n",
    "    new=dict(syr=260, phi=150, bos=270, pro=260),\n",
    "    pro=dict(bos=90, new=260),\n",
    "    bos=dict(pro=90, new=270, syr=290, por=120),\n",
    "    por=dict(bos=120))\n",
    "\n",
    "sld_providence = dict(\n",
    "    chi=833,\n",
    "    cle=531,\n",
    "    ind=782,\n",
    "    col=618,\n",
    "    det=596,\n",
    "    buf=385,\n",
    "    pit=458,\n",
    "    syr=253,\n",
    "    bal=325,\n",
    "    phi=236,\n",
    "    new=157,\n",
    "    pro=0,\n",
    "    bos=38,\n",
    "    por=136)\n",
    "\n",
    "def check_map(step_costs):\n",
    "    ''' function to check if all the path costs are at least symmetric '''\n",
    "    check_states = []\n",
    "    for state1 in step_costs.keys():\n",
    "        for state2 in step_costs[state1].keys():\n",
    "            uh_oh = step_costs[state2][state1]!=step_costs[state1][state2]\n",
    "            if uh_oh:\n",
    "                print('Check the costs between states {} and {}'.format(state1,state2))\n",
    "                check_states.append([state1,state2])\n",
    "    if len(check_states)==0:\n",
    "        print('all okay! (symmetric at least)')\n",
    "    return check_states"
   ]
  },
  {
   "cell_type": "markdown",
   "metadata": {},
   "source": [
    "<a id='p1a'></a>\n",
    "### (2a)\n",
    "\n",
    "#### Breadth-first search\n",
    "\n",
    "Implement a function **breadth_first(start, goal, state_graph, return_cost)** to search the state space (and step costs) defined by **state_graph** using breadth-first search:\n",
    "* **start**: initial state (e.g., 'ind')\n",
    "* **end**: goal state (e.g., 'bos')\n",
    "* **state_graph**: the dictionary defining the step costs (e.g., `map_distances`)\n",
    "* **return_cost**: logical input representing whether or not to return the solution path cost\n",
    "  * If **True**, then the output should be a tuple where the first value is the list representing the solution path and the second value is the path cost\n",
    "  * If **False**, then the only output is the solution path list object\n",
    "\n",
    "Note that in the helper functions, two useful routines for obtaining your solution path are provided (and can be used for all the search algorithms):\n",
    "  * **path(previous, s)**: returns a list representing a path to state **s**, where **previous** is a dictionary that maps predecessors (values) to successors (keys)\n",
    "  * **pathcost(path, step_costs)**: adds up the step costs defined by the **step_costs** graph (e.g., `map_distances`) along the list of states **path**"
   ]
  },
  {
   "cell_type": "code",
   "execution_count": 94,
   "metadata": {},
   "outputs": [
    {
     "data": {
      "text/plain": [
       "(['chi', 'cle', 'buf', 'syr', 'bos'], 996)"
      ]
     },
     "execution_count": 94,
     "metadata": {},
     "output_type": "execute_result"
    }
   ],
   "source": [
    "def breadth_first(start, goal, state_graph, return_cost):\n",
    "    \n",
    "    #dictionary for explored states\n",
    "    explored = {start : None}\n",
    "    \n",
    "    #dictionary for frontier\n",
    "    frontier = {}\n",
    "    \n",
    "    #populate frontier dict with key:start, where start is the path it took to get to key\n",
    "    for key in state_graph[start].keys():\n",
    "        frontier[key] = start\n",
    "    \n",
    "    #queue to be explored in alphabetical order\n",
    "    queue = sorted(frontier.keys())\n",
    "    \n",
    "    #set previous state to start\n",
    "    previous = start\n",
    "    \n",
    "    while goal not in frontier.keys():\n",
    "        #get the next move from the queue\n",
    "        next_move = queue[0]\n",
    "        \n",
    "        #add to explored and remove from queue and frontier\n",
    "        explored[next_move] = frontier[next_move]\n",
    "        queue.pop(0)\n",
    "        del(frontier[next_move])\n",
    "        \n",
    "        #check for any duplicates, and add non duplicates to frontier and the queue\n",
    "        for key, value in sorted(state_graph[next_move].items()):\n",
    "            if key not in explored.keys() and key not in frontier.keys():\n",
    "                frontier[key] = next_move\n",
    "            if key not in explored.keys()and key not in queue:\n",
    "                queue.append(key)\n",
    "\n",
    "         #reset previous\n",
    "        previous = next_move\n",
    "    \n",
    "    #once goal is in our frontier, we need to update the path\n",
    "    explored[goal] = previous\n",
    "    \n",
    "    #call path and pathcost functions\n",
    "    finalpath = path(explored, goal)\n",
    "    \n",
    "    #return based on input parameters\n",
    "    if return_cost == True:\n",
    "        pcost = pathcost(finalpath, state_graph)\n",
    "        return (finalpath,pcost)\n",
    "    else:\n",
    "        return finalpath\n",
    "    \n",
    "\n",
    "breadth_first('chi', 'bos', map_distances, True)\n",
    "#Consistent with solution in lecture"
   ]
  },
  {
   "cell_type": "markdown",
   "metadata": {},
   "source": [
    "<a id='p1b'></a>\n",
    "### (2b)\n",
    "\n",
    "#### Depth-first search\n",
    "\n",
    "Implement a function **depth_first(start, goal, state_graph, return_cost)** to search the state space (and step costs) defined by **state_graph** using depth-first search:\n",
    "* **start**: initial state (e.g., 'ind')\n",
    "* **end**: goal state (e.g., 'bos')\n",
    "* **state_graph**: the dictionary defining the step costs (e.g., `map_distances`)\n",
    "* **return_cost**: logical input representing whether or not to return the solution path cost\n",
    "    * If **True**, then the output should be a tuple where the first value is the list representing the solution path and the second value is the path cost\n",
    "    * If **False**, then the only output is the solution path list object"
   ]
  },
  {
   "cell_type": "code",
   "execution_count": 93,
   "metadata": {},
   "outputs": [
    {
     "data": {
      "text/plain": [
       "(['chi', 'cle', 'buf', 'pit', 'bal', 'phi', 'new', 'bos'], 1409)"
      ]
     },
     "execution_count": 93,
     "metadata": {},
     "output_type": "execute_result"
    }
   ],
   "source": [
    "def depth_first(start, goal, state_graph, return_cost):\n",
    "    \n",
    "    #dictionary for explored states\n",
    "    explored = {start : None}\n",
    "    \n",
    "    #dictionary for frontier\n",
    "    frontier = {}\n",
    "    \n",
    "    #populate frontier dict with key:start, where start is the path it took to get to key\n",
    "    for key in state_graph[start].keys():\n",
    "        frontier[key] = start\n",
    "    \n",
    "    #queue to be explored in alphabetical order\n",
    "    queue = sorted(frontier.keys())\n",
    "    \n",
    "    #set previous state to start\n",
    "    previous = start\n",
    "    \n",
    "    while goal not in frontier.keys():\n",
    "        #get the next move from the queue \n",
    "        next_move = queue[0]\n",
    "        \n",
    "        #add to explored and remove from queue and frontier\n",
    "        explored[next_move] = frontier[next_move]\n",
    "        queue.pop(0)\n",
    "        del(frontier[next_move])\n",
    "        \n",
    "        #check for any duplicates, and add non duplicates to frontier and the queue\n",
    "        #also sort keys in REVERSE order since we're adding elements to the front of the list below\n",
    "        for key, value in sorted(state_graph[next_move].items(), reverse=True):\n",
    "            \n",
    "            #Note in DFS: If the key is already in the frontier, we DO want to update the predecessor\n",
    "            if key not in explored.keys():\n",
    "                frontier[key] = next_move\n",
    "                \n",
    "            #insert at the beginning if this is a new node\n",
    "            if key not in explored.keys() and key not in queue:\n",
    "                queue.insert(0, key)\n",
    "                \n",
    "            #if node is already in queue, remove and place it at the font of the queue\n",
    "            elif key not in explored.keys() and key in queue:\n",
    "                queue.remove(key)\n",
    "                queue.insert(0,key)\n",
    "\n",
    "         #reset previous\n",
    "        previous = next_move\n",
    "    \n",
    "    #once goal is in our frontier, we need to update the path\n",
    "    explored[goal] = previous\n",
    "    \n",
    "    #call path and pathcost functions\n",
    "    finalpath = path(explored, goal)\n",
    "    \n",
    "    #return based on input parameters\n",
    "    if return_cost == True:\n",
    "        pcost = pathcost(finalpath, state_graph)\n",
    "        return (finalpath,pcost)\n",
    "    else:\n",
    "        return finalpath\n",
    "    \n",
    "\n",
    "depth_first('chi', 'bos', map_distances, True)\n",
    "#consistent with lecture example"
   ]
  },
  {
   "cell_type": "markdown",
   "metadata": {},
   "source": [
    "<a id='p1c'></a>\n",
    "### (2c)\n",
    "\n",
    "#### Uniform-cost search\n",
    "\n",
    "First, let's create our own `Frontier_PQ` class to represent the frontier (priority queue) for uniform-cost search.  Note that the `heapq` package is imported in the helpers at the bottom of this notebook; you may find that package useful.  You could also use the `Queue` package.  Your implementation of the uniform-cost search frontier should adhere to these specifications:\n",
    "* Instantiation arguments: \n",
    "  * **Frontier_PQ(start, cost)**\n",
    "  * **start** is the initial state (e.g., **start**='chi')\n",
    "  * **cost** is the initial path cost (what should it be for the initial state?)\n",
    "* Instantiation attributes/methods:\n",
    "  * **states**: maintains a dictionary of states on the frontier, along with the _minimum_ path cost to arrive at them\n",
    "  * **q**: a list of (cost, state) tuples, representing the elements on the frontier; should be treated as a priority queue (in contrast to the **states** dictionary, which is meant to keep track of the lowest-cost to each state)\n",
    "  * appropriately initialize the starting state and cost\n",
    "* Methods to implement:\n",
    "  * **add(state, cost)**: add the (cost, state) tuple to the frontier\n",
    "  * **pop()**: return the lowest-cost (cost, state) tuple, and pop it off the frontier\n",
    "  * **replace(state, cost)**: if you find a lower-cost path to a state that's already on the frontier, it should be replaced using this method.\n",
    "  \n",
    "Note that there is some redundancy between the information stored in **states** and **q**. I only suggest to code it in this way because I think it's the most straightforward way to get something working. You could reduce the storage requirements by eliminating the redundancy, but it increases the time complexity because of the function calls needed to manipulate your priority queue to check for states (since that isn't how the frontier queue is ordered)."
   ]
  },
  {
   "cell_type": "code",
   "execution_count": 21,
   "metadata": {},
   "outputs": [],
   "source": [
    "class Frontier_PQ:\n",
    "    \n",
    "    def __init__(self, cost, start):\n",
    "        self.start = start\n",
    "        self.cost = cost\n",
    "        self.states = {}\n",
    "        self.q = []\n",
    "        self.previous = {}\n",
    "        \n",
    "    def add(self, cost, state, p):\n",
    "        #add to states dictionary\n",
    "        self.states[state] = cost\n",
    "        self.previous[state] = p\n",
    "        \n",
    "        #push to the queue\n",
    "        heapq.heappush(self.q,(cost, state)) \n",
    "        \n",
    "    def pop(self):\n",
    "        #get the first item in queue\n",
    "        my_tuple = heapq.heappop(self.q)\n",
    "        \n",
    "        p = self.previous[my_tuple[1]]\n",
    "        \n",
    "        #delete from self.states\n",
    "        del(self.states[my_tuple[1]])\n",
    "        del(self.previous[my_tuple[1]])\n",
    "        \n",
    "        l = list(my_tuple)\n",
    "        l.append(p)\n",
    "        \n",
    "        #return the tuple\n",
    "        return tuple(l)\n",
    "        \n",
    "    def replace(self, state, cost, p):\n",
    "        old = self.states[state]\n",
    "        self.states[state] = cost\n",
    "        self.previous[state] = p\n",
    "        \n",
    "        self.q.remove((old,state))\n",
    "        \n",
    "        heapq.heappush(self.q,(cost, state))\n",
    "        "
   ]
  },
  {
   "cell_type": "code",
   "execution_count": 14,
   "metadata": {},
   "outputs": [
    {
     "name": "stdout",
     "output_type": "stream",
     "text": [
      "{}\n",
      "[]\n",
      "{'det': 200, 'cle': 300}\n",
      "[(200, 'det'), (300, 'cle')]\n",
      "(200, 'det')\n",
      "{'cle': 300}\n",
      "[(300, 'cle')]\n",
      "{'cle': 250}\n",
      "[(250, 'cle')]\n"
     ]
    }
   ],
   "source": [
    "## testing class implementation\n",
    "node = Frontier_PQ('chi', 0)\n",
    "\n",
    "print(node.states)\n",
    "print(node.q)\n",
    "\n",
    "node.add(200, 'det')\n",
    "node.add(300, 'cle')\n",
    "\n",
    "print(node.states)\n",
    "print(node.q)\n",
    "\n",
    "nex = node.pop()\n",
    "print(nex)\n",
    "print(node.states)\n",
    "print(node.q)\n",
    "\n",
    "node.replace('cle', 250)\n",
    "print(node.states)\n",
    "print(node.q)"
   ]
  },
  {
   "cell_type": "markdown",
   "metadata": {},
   "source": [
    "**Updates to Code:**\n",
    "\n",
    "Note that I added an additional dictionary \"previous\" to the Frontier_PQ class implementation above.  This dict tracks the predecessor / successor states and is the dictionary that is ultimately passed to the path() function to trace the final route.  This is consistent with how I implemented BFS and DFS above as well, where my frontier was both the next state and it's previous state.  I could have tracked the path on each iteration of the loop which may have been more memory-efficient, but it was easier for me to think about conceptually with this implementation."
   ]
  },
  {
   "cell_type": "markdown",
   "metadata": {},
   "source": [
    "Now, actually implement a function to search using `uniform_cost` search, called as **uniform_cost(start, goal, state_graph, return_cost)**:\n",
    "* **start**: initial state\n",
    "* **goal**: goal state\n",
    "* **state_graph**: graph representing the connectivity and step costs of the state space (e.g., **map_distances** or **map_times** below)\n",
    "* **return_cost**: logical input representing whether or not to return the solution path cost\n",
    "  * If **True**, then the output should be a tuple where the first value is the list representing the solution path and the second value is the path cost\n",
    "  * If **False**, then the only output is the solution path list object"
   ]
  },
  {
   "cell_type": "code",
   "execution_count": 25,
   "metadata": {},
   "outputs": [
    {
     "data": {
      "text/plain": [
       "(['chi', 'cle', 'buf', 'syr', 'bos'], 996)"
      ]
     },
     "execution_count": 25,
     "metadata": {},
     "output_type": "execute_result"
    }
   ],
   "source": [
    "def uniform_cost(start, goal, state_graph, return_cost):\n",
    "    \n",
    "    #dictionary for explored states\n",
    "    explored = {start : None}\n",
    "    \n",
    "    #initilize instance of Frontier_PQ\n",
    "    my_queue = Frontier_PQ(start, 0)\n",
    "    \n",
    "    #loop through state_graph dict and add the nodes to the frontier and queue\n",
    "    for key, value in state_graph[start].items():\n",
    "        my_queue.add(value,key,start)\n",
    "    \n",
    "    previous = (0,start)\n",
    "    \n",
    "    while goal not in explored.keys():\n",
    "        #get the next move from the queue\n",
    "        node = my_queue.pop()\n",
    "        next_move = node[1]\n",
    "        next_value = node[0]\n",
    "        p = node[2]\n",
    "        \n",
    "        explored[next_move] = p\n",
    "\n",
    "\n",
    "        for key, value in state_graph[next_move].items():\n",
    "            new_distance = value + next_value\n",
    "\n",
    "            if key not in explored.keys() and key not in my_queue.states.keys():\n",
    "                my_queue.add(new_distance, key, next_move)\n",
    "\n",
    "            if key in my_queue.states.keys() and new_distance < my_queue.states[key]:\n",
    "                my_queue.replace(key, new_distance, next_move)\n",
    "\n",
    "        previous = node\n",
    "    \n",
    "    #call path and pathcost functions\n",
    "    finalpath = path(explored, goal)\n",
    "    pcost = pathcost(finalpath, state_graph)\n",
    "    \n",
    "    #return based on input parameters\n",
    "    if return_cost == True:\n",
    "        return (finalpath,pcost)\n",
    "    else:\n",
    "        return finalpath\n",
    "\n",
    "uniform_cost('chi', 'bos', map_distances, True)"
   ]
  },
  {
   "cell_type": "markdown",
   "metadata": {},
   "source": [
    "<a id='p1d'></a>\n",
    "### (2d)\n",
    "\n",
    "In the code cell below, use a few **print** statements to showcase the output of each of your three search algorithms defined above (in **1a**, **1b** and **1c**) to find routes for Snake to travel from Chicago to New York, with path costs defined by the distance between cities.\n",
    "\n",
    "Then, in the markdown cell below your code cell, write a few sentences:\n",
    "* Which algorithm yields the shortest path?\n",
    "* Why does this not surprise you?"
   ]
  },
  {
   "cell_type": "code",
   "execution_count": 32,
   "metadata": {},
   "outputs": [
    {
     "name": "stdout",
     "output_type": "stream",
     "text": [
      "BFS yields a path of:  ['chi', 'cle', 'buf', 'syr', 'new']\n",
      "BFS path has a distance of:  938\n",
      "\n",
      "DFS yields a path of:  ['chi', 'cle', 'buf', 'pit', 'bal', 'phi', 'new']\n",
      "DFS path has a distance of:  1194\n",
      "\n",
      "UCS yields a path of:  ['chi', 'cle', 'pit', 'phi', 'new']\n",
      "UCS path has a distance of:  881\n"
     ]
    }
   ],
   "source": [
    "bfs = breadth_first('chi', 'new', map_distances, True)\n",
    "dfs = depth_first('chi', 'new', map_distances, True)\n",
    "ucs = uniform_cost('chi', 'new', map_distances, True)\n",
    "\n",
    "print(\"BFS yields a path of:\", bfs[0])\n",
    "print(\"BFS path has a distance of:\", bfs[1])\n",
    "print()\n",
    "print(\"DFS yields a path of:\", dfs[0])\n",
    "print(\"DFS path has a distance of:\", dfs[1])\n",
    "print()\n",
    "print(\"UCS yields a path of:\", ucs[0])\n",
    "print(\"UCS path has a distance of:\", ucs[1])"
   ]
  },
  {
   "cell_type": "markdown",
   "metadata": {},
   "source": [
    "**Response:**\n",
    "\n",
    "Uniform-cost search yields the shortest path.  This isn't surprising as it's the only search method of the three implemented above that takes into account edge weights.  BFS and DFS treat each \"road\" between cities as equal, which obviously isn't true."
   ]
  },
  {
   "cell_type": "markdown",
   "metadata": {},
   "source": [
    "<a id='p1e'></a>\n",
    "### (2e)\n",
    "\n",
    "The Plutoxin 7 poison (which Snake has been infected with) will cause Snake's central nervous system to implode after exactly 1000 minutes.\n",
    "\n",
    "Will any of the paths found in **(1d)** get Snake to New York alive?  Show your work! Snake's life hangs in the balance."
   ]
  },
  {
   "cell_type": "code",
   "execution_count": 36,
   "metadata": {},
   "outputs": [
    {
     "name": "stdout",
     "output_type": "stream",
     "text": [
      "The BFS path with take 935 minutes.\n",
      "\n",
      "The DFS path with take 1295 minutes.\n",
      "\n",
      "The UCS path with take 945 minutes.\n"
     ]
    }
   ],
   "source": [
    "bfs_time = pathcost(bfs[0], map_times)\n",
    "dfs_time = pathcost(dfs[0], map_times)\n",
    "ucs_time = pathcost(ucs[0], map_times)\n",
    "\n",
    "print(\"The BFS path with take\", bfs_time, \"minutes.\")\n",
    "print()\n",
    "print(\"The DFS path with take\", dfs_time, \"minutes.\")\n",
    "print()\n",
    "print(\"The UCS path with take\", ucs_time, \"minutes.\")"
   ]
  },
  {
   "cell_type": "markdown",
   "metadata": {},
   "source": [
    "As shown above, both the UCS and the BFS paths will get Sanke to New York alive.  Note that the UCS path takes longer to reach New York. This is because we found the optimal path based on _miles_ traveled, not minutes traveled.  If we were to run UCS based on minutes, it would yield a different path. "
   ]
  },
  {
   "cell_type": "markdown",
   "metadata": {},
   "source": [
    "<a id='p1f'></a>\n",
    "### (2f)\n",
    "\n",
    "Since time is a factor, Snake ought to optimize his route from Chicago to New York to minimize the total time required. Because Snake is a renaissance man, he knows some pretty slick search algorithms.  But because he's infected with deadly poison, Snake just isn't up to the task of implementing them - his code is full of bugs and he keeps sneezing all over his monitor!  Let's help him out, shall we?\n",
    "\n",
    "In the code cell below, find the shortest path from Chicago to New York as measured by total time taken, and display the result using a **print** statement\n",
    "\n",
    "In the markdown cell below the code cell, write a couple of sentences:\n",
    "* Why did you choose the search algorithm and state space graph that you chose?\n",
    "* Would the solution path found by the other algorithms (the ones you didn't use in your function call) change if you tried to optimize based on time as opposed to distance (i.e., used **map_times** as opposed to **map_distances**)? Why or why not?\n",
    "* **Most importantly:**  will Snake get to New York in time to receive the Plutoxin 7 antidote? This answer should be justified by your code output."
   ]
  },
  {
   "cell_type": "code",
   "execution_count": 38,
   "metadata": {},
   "outputs": [
    {
     "name": "stdout",
     "output_type": "stream",
     "text": [
      "UCS yields a path of: ['chi', 'cle', 'buf', 'syr', 'new']\n",
      "UCS path has a time of: 935 minutes\n"
     ]
    }
   ],
   "source": [
    "ucs_two = uniform_cost('chi', 'new', map_times, True)\n",
    "\n",
    "print(\"UCS yields a path of:\", ucs_two[0])\n",
    "print(\"UCS path has a time of:\", ucs_two[1], \"minutes\")"
   ]
  },
  {
   "cell_type": "markdown",
   "metadata": {},
   "source": [
    "I chose the UCS algorithm because it is the only algorithm that takes into account edge weight (time between cities, in this case).  The other two will find a solution, but it isn't guaranteed to be optimal as they treat each edge as equal.  The UCS algorithm will find the shortest path.  I chose the state space graph \"map_times\" because we are concerned with how long it will take to get Snake to New York, not how far the route is.\n",
    "\n",
    "The solutions wouldn't change with BFS or DFS.  This is because the algorithms unfold cities in a (more or less) alphabetical order rather than prioritizing them based on edge weights.  Since both of the state space graphs are the same other than the edge weights, both of these algorithms will have the same path regardless of which map is chosen.\n",
    "\n",
    "Yes! Snake will get to New York in time.  As mentioned above, he has 1000 minutes to get there and the shortest time path takes 935 minutes."
   ]
  },
  {
   "cell_type": "markdown",
   "metadata": {},
   "source": [
    "## Problem 3 (25 points)\n",
    "\n",
    "Well, it turns out Snake used the right algorithms and lived through his perilous trip to New York City.  He returned to Chicago, where he is living happily among the criminals, sea lions and criminal sea lions  But we want a sequel!\n",
    "\n",
    "During Snake's time on the east coast, he came to realize that the soothing Atlantic Ocean air does wonders for his nerves. Living in the penal colony of Chicago is just so stressful! So he has decided to pack up and move to Providence, Rhode Island.\n",
    "\n",
    "Because Snake has traveled across the country already, he has some prior knowledge regarding how far various cities along the way are from his final destination of Providence.  In particular, Snake maps out the **straight-line distance** from major cities to Providence. This information is displayed graphically below, on a tattoo on Kurt Russell's forearm (you can't prove that isn't true), and in the `sld_providence` dictionary in the [helper functions] at the top of this notebook.\n",
    "\n",
    "Also note that because it doesn't make much sense to add estimated travel times and the straight-line distance, we will only be using the `map_distances` state space graph for this problem.\n",
    "\n",
    "**map_distances**          |  **sld_providence**\n",
    ":-------------------------:|:-------------------------:\n",
    "<img src=\"http://drive.google.com/uc?export=view&id=1j6Kam3F7ET-aIzT-6KMxaW7D7r8WAOME\" alt=\"Drawing\" style=\"width: 500px;\"/>  | <img src=\"http://drive.google.com/uc?export=view&id=1a8FNEG7apKkRX7VvpdMgmeYbqeNuOdwz\" alt=\"Drawing\" style=\"width: 500px;\"/>\n",
    "\n",
    "\n",
    "<a id='p1a'></a>\n",
    "### (3a)\n",
    "\n",
    "Modify your code for uniform-cost search from Problem 1 so that it provides optionally as output the number of nodes **expanded** in completing the search. \n",
    "\n",
    "Include a new optional logical (True/False) argument **return_nexp**, so your function calls to the new uniform cost search will look like: `uniform_cost(start, goal, state_graph, return_cost, return_nexp)`.\n",
    "* If `return_nexp` is True, then the last output in the output tuple should be the number of nodes expanded.\n",
    "* If `return_nexp` is False, then the code should behave exactly as it does in problem 2.\n",
    "\n",
    "Then, verify that your revised codes are working by checking Snake's optimal route from Chicago to New York. Include the number of nodes expanded and the path cost (using `map_distances`)."
   ]
  },
  {
   "cell_type": "code",
   "execution_count": 41,
   "metadata": {},
   "outputs": [
    {
     "name": "stdout",
     "output_type": "stream",
     "text": [
      "UCS yields a path of: ['chi', 'cle', 'pit', 'phi', 'new']\n",
      "UCS path has a distance of 881 miles\n",
      "UCS expanded 11 nodes\n"
     ]
    }
   ],
   "source": [
    "def uniform_cost(start, goal, state_graph, return_cost, return_nexp):\n",
    "    \n",
    "    #dictionary for explored states\n",
    "    explored = {start : None}\n",
    "    \n",
    "    #initilize instance of Frontier_PQ\n",
    "    my_queue = Frontier_PQ(start, 0)\n",
    "    \n",
    "    #loop through state_graph dict and add the nodes to the frontier and queue\n",
    "    for key, value in state_graph[start].items():\n",
    "        my_queue.add(value,key,start)\n",
    "    \n",
    "    previous = (0,start)\n",
    "    count = 1\n",
    "    \n",
    "    while goal not in explored.keys():\n",
    "        #get the next move from the queue (note for depth-first )\n",
    "        node = my_queue.pop()\n",
    "        next_move = node[1]\n",
    "        next_value = node[0]\n",
    "        p = node[2]\n",
    "        \n",
    "        count += 1\n",
    "        explored[next_move] = p\n",
    "\n",
    "\n",
    "        for key, value in state_graph[next_move].items():\n",
    "            new_distance = value + next_value\n",
    "\n",
    "            if key not in explored.keys() and key not in my_queue.states.keys():\n",
    "                my_queue.add(new_distance, key, next_move)\n",
    "\n",
    "            if key in my_queue.states.keys() and new_distance < my_queue.states[key]:\n",
    "                my_queue.replace(key, new_distance, next_move)\n",
    "\n",
    "        previous = node\n",
    "    \n",
    "    #call path and pathcost functions\n",
    "    finalpath = path(explored, goal)\n",
    "    pcost = pathcost(finalpath, state_graph)\n",
    "    \n",
    "    #return based on input parameters\n",
    "    if return_cost == True and return_nexp == True:\n",
    "        return (finalpath,pcost, count)\n",
    "    elif return_cost == True:\n",
    "        return (finalpath,pcost)\n",
    "    elif return_nexp == True:\n",
    "        return (finalpath,count)\n",
    "    else:\n",
    "        return finalpath\n",
    "\n",
    "ucs_three = uniform_cost('chi', 'new', map_distances, True, True)\n",
    "\n",
    "print(\"UCS yields a path of:\", ucs_three[0])\n",
    "print(\"UCS path has a distance of\", ucs_three[1], \"miles\")\n",
    "print(\"UCS expanded\", ucs_three[2], \"nodes\")\n"
   ]
  },
  {
   "cell_type": "markdown",
   "metadata": {},
   "source": [
    "### (3b)\n",
    "\n",
    "#### Heuristic function\n",
    "\n",
    "Define a function to take as an argument the `state` that Snake is in (city on our graphs), and return as output the value of the straight-line distance heuristic, between Snake's `state` and Providence.  Note that your function should be quite short, and amounts to looking up the proper value from the `sld_providence` dictionary defined in the [helper functions](#helper).  Call this function `heuristic_sld_providence`.\n"
   ]
  },
  {
   "cell_type": "code",
   "execution_count": 44,
   "metadata": {},
   "outputs": [
    {
     "data": {
      "text/plain": [
       "833"
      ]
     },
     "execution_count": 44,
     "metadata": {},
     "output_type": "execute_result"
    }
   ],
   "source": [
    "def heuristic_sld_providence(state):\n",
    "    return sld_providence[state]\n",
    "\n",
    "heuristic_sld_providence('chi')"
   ]
  },
  {
   "cell_type": "markdown",
   "metadata": {},
   "source": [
    "### (3c)\n",
    "\n",
    "#### Full-blown A\\* search\n",
    "\n",
    "We are finally ready to help Snake use his knowledge of straight-line distances from various cities to Providence to inform his path-finding from Chicago to Providence!\n",
    "\n",
    "Modify your uniform-cost search codes from **(2a)** even further so that they now perform **A\\* search**, using as the heuristic function the straight-line distance to Providence.\n",
    "\n",
    "Provide `heuristic` as an additional argument, which should just be the function name to call within the A\\* code. So your call to the A\\* routine should look like:  `astar_search(start, goal, state_graph, heuristic, return_cost, return_nexp)`.  (This kind of modular programming will make it much easier to swap in alternative heuristic functions later, and also helps to facilitate debugging if something goes wrong.)"
   ]
  },
  {
   "cell_type": "code",
   "execution_count": 56,
   "metadata": {},
   "outputs": [
    {
     "name": "stdout",
     "output_type": "stream",
     "text": [
      "Queue is: [(876, 'cle'), (879, 'det'), (964, 'ind')]\n",
      "Next move is: cle\n",
      "Queue is: [(574, 'buf'), (592, 'pit'), (765, 'det'), (964, 'ind'), (762, 'col')]\n",
      "Next move is: buf\n",
      "Queue is: [(403, 'syr'), (592, 'pit'), (765, 'det'), (964, 'ind'), (762, 'col')]\n",
      "Next move is: syr\n",
      "Queue is: [(350, 'bos'), (592, 'pit'), (411, 'new'), (964, 'ind'), (762, 'col'), (765, 'det'), (489, 'phi')]\n",
      "Next move is: bos\n",
      "Queue is: [(50, 'pro'), (243, 'por'), (372, 'new'), (592, 'pit'), (765, 'det'), (489, 'phi'), (964, 'ind'), (762, 'col')]\n",
      "Next move is: pro\n",
      "A-Star yields a path of: ['chi', 'cle', 'buf', 'syr', 'bos', 'pro']\n",
      "A-Star path has a distance of 1046 miles\n",
      "A-Star expanded 6 nodes\n",
      "\n",
      "UCS yields a path of: ['chi', 'cle', 'buf', 'syr', 'bos', 'pro']\n",
      "UCS path has a distance of 1046 miles\n",
      "UCS expanded 13 nodes\n"
     ]
    }
   ],
   "source": [
    "def astar_search(start, goal, state_graph, heuristic, return_cost, return_nexp):\n",
    "        #dictionary for explored states\n",
    "    explored = {start : None}\n",
    "    \n",
    "    #initilize instance of Frontier_PQ\n",
    "    my_queue = Frontier_PQ(start, 0)\n",
    "    \n",
    "    #loop through state_graph dict and add the nodes to the frontier and queue\n",
    "    for key, value in state_graph[start].items():\n",
    "        n = value + heuristic(key) #f(n) + g(n)\n",
    "        my_queue.add(n,key,start)\n",
    "    \n",
    "    previous = (0 + heuristic(start),start) #f(n) + g(n)\n",
    "    count = 1\n",
    "    \n",
    "    while goal not in explored.keys():\n",
    "        #get the next move from the queue (note for depth-first )\n",
    "        print(\"Queue is:\", my_queue.q)\n",
    "        node = my_queue.pop()\n",
    "        next_move = node[1]\n",
    "        next_value = node[0]\n",
    "        p = node[2]\n",
    "        \n",
    "        print(\"Next move is:\", next_move)\n",
    "        \n",
    "        count += 1\n",
    "        explored[next_move] = p\n",
    "\n",
    "\n",
    "        for key, value in state_graph[next_move].items():\n",
    "            new_distance = value + heuristic(key)\n",
    "\n",
    "            if key not in explored.keys() and key not in my_queue.states.keys():\n",
    "                my_queue.add(new_distance, key, next_move)\n",
    "\n",
    "            if key in my_queue.states.keys() and new_distance < my_queue.states[key]:\n",
    "                my_queue.replace(key, new_distance, next_move)\n",
    "\n",
    "        previous = node\n",
    "    \n",
    "    #call path and pathcost functions\n",
    "    finalpath = path(explored, goal)\n",
    "    pcost = pathcost(finalpath, state_graph)\n",
    "    \n",
    "    #return based on input parameters\n",
    "    if return_cost == True and return_nexp == True:\n",
    "        return (finalpath,pcost, count)\n",
    "    elif return_cost == True:\n",
    "        return (finalpath,pcost)\n",
    "    elif return_nexp == True:\n",
    "        return (finalpath,count)\n",
    "    else:\n",
    "        return finalpath\n",
    "\n",
    "a_star = astar_search('chi', 'pro', map_distances, heuristic_sld_providence ,True, True)\n",
    "ucs_prov = uniform_cost('chi', 'pro', map_distances, True, True)\n",
    "\n",
    "print(\"A-Star yields a path of:\", a_star[0])\n",
    "print(\"A-Star path has a distance of\", a_star[1], \"miles\")\n",
    "print(\"A-Star expanded\", a_star[2], \"nodes\")\n",
    "print()\n",
    "print(\"UCS yields a path of:\", ucs_prov[0])\n",
    "print(\"UCS path has a distance of\", ucs_prov[1], \"miles\")\n",
    "print(\"UCS expanded\", ucs_prov[2], \"nodes\")"
   ]
  },
  {
   "cell_type": "markdown",
   "metadata": {},
   "source": [
    "### (3d)\n",
    "\n",
    "Snake has already made it to Buffalo on his own, but he is growing weary.  There were ***so*** many sea lions along the way, and he had to stop and admire their grace and beauty.  Use your A\\* search code from **(3c)** to help Snake find the optimal path **by distance traveled** the rest of the way to Providence.  Print to the screen the following:\n",
    "1. the optimal path\n",
    "2. the optimal path cost (miles traveled)\n",
    "3. the number of states expanded during the A\\* search\n",
    "\n",
    "Additionally, show below how many states must be expanded to find the optimal path from Buffalo to Providence using the regular old uniform-cost search algorithm from **(3a)**.  Comment on the difference in states that must be explored by each algorithm.\n",
    "\n",
    "**Sanity check:** No matter what your `start` and `goal` states are, how should the output from `astar_search` and `uniform_cost` search compare?"
   ]
  },
  {
   "cell_type": "code",
   "execution_count": 54,
   "metadata": {},
   "outputs": [
    {
     "name": "stdout",
     "output_type": "stream",
     "text": [
      "Queue is: [(403, 'syr'), (673, 'pit'), (720, 'cle'), (852, 'det')]\n",
      "Next move is: syr\n",
      "Queue is: [(350, 'bos'), (489, 'phi'), (411, 'new'), (852, 'det'), (673, 'pit'), (720, 'cle')]\n",
      "Next move is: bos\n",
      "Queue is: [(50, 'pro'), (489, 'phi'), (243, 'por'), (673, 'pit'), (720, 'cle'), (852, 'det'), (372, 'new')]\n",
      "Next move is: pro\n",
      "A-Star yields a path of: ['buf', 'syr', 'bos', 'pro']\n",
      "A-Star path has a distance of 512 miles\n",
      "A-Star expanded 4 nodes\n",
      "\n",
      "UCS yields a path of: ['buf', 'syr', 'bos', 'pro']\n",
      "UCS path has a distance of 512 miles\n",
      "UCS expanded 12 nodes\n"
     ]
    }
   ],
   "source": [
    "astar_buf = astar_search('buf', 'pro', map_distances, heuristic_sld_providence ,True, True)\n",
    "ucs_buf = uniform_cost('buf', 'pro', map_distances, True, True)\n",
    "\n",
    "print(\"A-Star yields a path of:\", astar_buf[0])\n",
    "print(\"A-Star path has a distance of\", astar_buf[1], \"miles\")\n",
    "print(\"A-Star expanded\", astar_buf[2], \"nodes\")\n",
    "print()\n",
    "print(\"UCS yields a path of:\", ucs_buf[0])\n",
    "print(\"UCS path has a distance of\", ucs_buf[1], \"miles\")\n",
    "print(\"UCS expanded\", ucs_buf[2], \"nodes\")"
   ]
  },
  {
   "cell_type": "markdown",
   "metadata": {},
   "source": [
    "The optimal path from Buffalo to Providence is buf -> syr -> bos -> pro, and it has a distance of 512 miles.  The A-Star search expanded those four nodes, which is what we expect assuming our heuristic is consistent (which it is, in this case).  UCS, on the other hand, found the same path but it had to expand 12 nodes to get there.  This is because UCS will expand every possible node within that radius in order to find the optimal path.  That's nearly the entire graph, in this case, even though many of the nodes it explored are in the opposite direction of the goal.  The key takeaway here is that A-Star will find the optimal path in a significantly more efficient manner as compared to UCS _as long as the heuristic is consistent._"
   ]
  },
  {
   "attachments": {
    "image.png": {
     "image/png": "[encoded data removed]"
    }
   },
   "cell_type": "markdown",
   "metadata": {},
   "source": [
    "\n",
    "## Problem 4 (30 points)\n",
    "\n",
    "Consider this maze, where gray tiles represent walls and orange tiles represent open space where you can walk.\n",
    "\n",
    "![image.png](attachment:image.png)\n",
    "\n",
    "We can represent this maze using a binary `numpy` array as follows, where 1s represent walls and 0s represent open space:"
   ]
  },
  {
   "cell_type": "code",
   "execution_count": 133,
   "metadata": {},
   "outputs": [],
   "source": [
    "maze = np.array([[1, 1, 1, 1, 1, 1, 1, 1, 1, 1, 1, 1],\n",
    "                 [1, 0, 0, 0, 0, 0, 0, 0, 0, 0, 0, 1],\n",
    "                 [1, 0, 1, 1, 1, 1, 1, 1, 0, 1, 0, 1],\n",
    "                 [1, 0, 1, 0, 0, 0, 0, 0, 0, 0, 0, 1],\n",
    "                 [1, 0, 1, 0, 1, 1, 1, 0, 1, 1, 1, 1],\n",
    "                 [1, 0, 1, 0, 0, 0, 0, 0, 0, 0, 0, 1],\n",
    "                 [1, 0, 0, 0, 1, 1, 0, 1, 1, 1, 0, 1],\n",
    "                 [1, 0, 1, 0, 0, 1, 1, 1, 0, 1, 0, 1],\n",
    "                 [1, 1, 1, 1, 0, 1, 0, 0, 0, 0, 0, 1],\n",
    "                 [1, 0, 1, 0, 0, 1, 0, 1, 1, 1, 1, 1],\n",
    "                 [1, 0, 0, 0, 1, 1, 0, 0, 0, 0, 0, 1],\n",
    "                 [1, 1, 1, 1, 1, 1, 1, 1, 1, 1, 1, 1]])"
   ]
  },
  {
   "cell_type": "markdown",
   "metadata": {},
   "source": [
    "**Very importantly**, note that the *first* row of the **maze** array corresponds to the *bottom* row of tiles in the figure.  This is a choice made carefully to reflect the fact that we are going to search for a solution path through this maze in *physical* space, so it is useful for our coordinate system to match Cartesian coordinates. This is in contrast to using the first row of the **maze** array to represent the top of the maze, which looks intuitive."
   ]
  },
  {
   "cell_type": "markdown",
   "metadata": {},
   "source": [
    "<a id='p3a'></a>\n",
    "### (4a)\n",
    "\n",
    "Write a function **maze_to_graph(maze)** that:\n",
    "* takes as input a binary maze **maze**, stored as a `numpy` array, where 0 represents an open path and 1 represents a wall\n",
    "* returns a graph dictionary in a similar style to **map_distances** and **map_times** (from Problem 1)\n",
    "  * the keys are tuples giving the states (coordinate pairs) within the maze (e.g., (1,1) represents the lower-left open space, (2,1) represents the space **to the right** of (1,1), and (0,0) represents the lower-left corner, a wall location); thus, the coordinates within the maze are like Cartesian coordinates, and the x- and y-axes are the bottom and left walls of the maze, respectively\n",
    "  * the values are themselves dictionaries, where the keys are other states within the maze and the values are the actions taken to move to that state\n",
    "  * the actions are moves from the list ['N','S','E','W']"
   ]
  },
  {
   "cell_type": "code",
   "execution_count": 87,
   "metadata": {},
   "outputs": [],
   "source": [
    "def maze_to_graph(maze):\n",
    "    graph = {}\n",
    "    length = len(maze)\n",
    "    for i in range (length):\n",
    "        for j in range(length):\n",
    "            if maze[i][j] != 1:\n",
    "                graph[(j,i)] = {} \n",
    "                #moving right\n",
    "                if maze[i][j+1] != 1:\n",
    "                    graph[(j, i)][(j+1, i)] = 'E'\n",
    "\n",
    "                #moving left\n",
    "                if maze[i][j-1] != 1:\n",
    "                    graph[(j, i)][(j-1, i)] = 'W'\n",
    "\n",
    "                #moving down\n",
    "                if maze[i-1][j] != 1:\n",
    "                    graph[(j, i)][(j,i-1)] = 'S'\n",
    "\n",
    "                #moving up\n",
    "                if maze[i+1][j] != 1:\n",
    "                    graph[(j, i)][(j,i+1)] = 'N'\n",
    "                \n",
    "                \n",
    "    return graph\n",
    "\n",
    "my_maze = maze_to_graph(maze)"
   ]
  },
  {
   "cell_type": "markdown",
   "metadata": {},
   "source": [
    "<a id='p3b'></a>\n",
    "### (4b)\n",
    "\n",
    "Use your **maze_to_graph** function and **depth-first search** to solve the maze defined above.  A simple 'print' statement of the path your codes find and its length suffices.\n",
    "* The initial state is (1,1)\n",
    "* The goal state is (10,10)\n",
    "\n",
    "Then, use your **breadth-first search** function to solve the maze; provide the solution path and its length.\n",
    "\n",
    "If your codes are sufficiently general, the output from **maze_to_graph** should be suitable to be fed straight into your search routines."
   ]
  },
  {
   "cell_type": "code",
   "execution_count": 113,
   "metadata": {},
   "outputs": [
    {
     "name": "stdout",
     "output_type": "stream",
     "text": [
      "BFS path is: [(1, 1), (1, 2), (1, 3), (1, 4), (1, 5), (1, 6), (2, 6), (3, 6), (3, 5), (4, 5), (5, 5), (6, 5), (7, 5), (8, 5), (9, 5), (10, 5), (10, 6), (10, 7), (10, 8), (9, 8), (8, 8), (7, 8), (6, 8), (6, 9), (6, 10), (7, 10), (8, 10), (9, 10), (10, 10)]\n",
      "BFS num steps is: 28\n",
      "\n",
      "DFS path is: [(1, 1), (1, 2), (1, 3), (1, 4), (1, 5), (1, 6), (2, 6), (3, 6), (3, 5), (3, 4), (3, 3), (4, 3), (5, 3), (6, 3), (7, 3), (7, 4), (7, 5), (8, 5), (9, 5), (10, 5), (10, 6), (10, 7), (10, 8), (9, 8), (8, 8), (7, 8), (6, 8), (6, 9), (6, 10), (7, 10), (8, 10), (9, 10), (10, 10)]\n",
      "DFS num steps is: 32\n"
     ]
    }
   ],
   "source": [
    "def mazecost(path):\n",
    "    '''\n",
    "    add up the step costs along a path, which is assumed to be a list output from the `path` function above\n",
    "    '''\n",
    "    cost = 0\n",
    "    for s in range(len(path)-1):\n",
    "        cost += 1\n",
    "    return cost\n",
    "\n",
    "bfs_maze = breadth_first((1,1), (10,10), my_maze, False)\n",
    "bfs_maze_length = mazecost(bfs_maze)\n",
    "\n",
    "dfs_maze = depth_first((1,1), (10,10), my_maze, False)\n",
    "dfs_maze_length = mazecost(dfs_maze)\n",
    "\n",
    "print (\"BFS path is:\", bfs_maze)\n",
    "print (\"BFS num steps is:\", bfs_maze_length)\n",
    "print()\n",
    "print (\"DFS path is:\", dfs_maze)\n",
    "print (\"DFS num steps is:\", dfs_maze_length)"
   ]
  },
  {
   "cell_type": "markdown",
   "metadata": {},
   "source": [
    "**Notes to Code:**\n",
    "\n",
    "I'd like to point out that in my implementations of BFS and DFS (although slightly different), my queue is using sorted(state_graph[next_move].items()) to sort the next move in alphabetical order.  This worked well when the keys were strings representing cities (as was the case in the first problem), but in this case, they keys are tuples and thus the algorithm will choose moves based on how the tuples themselves are sorted, _not_ alphabetical for N,S,E,W.  This may lead to a different path as compared to moves chosen alphabetically from N,S,E,W. "
   ]
  },
  {
   "cell_type": "markdown",
   "metadata": {},
   "source": [
    "<a id='p3c'></a>\n",
    "### (4c)\n",
    "\n",
    "Write a function **plot_maze(maze, path)** that takes as input a binary `numpy` array **maze** (1s represent walls, 0s represent open space) and a solution **path**, and plots the two together.\n",
    "* **maze**: a maze represented as a binary `numpy` array, as above\n",
    "* **path**: a solution path found using your search algorithms above. **path** should be consistent with the output from the **path** function below in the helpers (a list of states).  You may find it useful to provide a default of `None` for **path**, so that you can use your function to just plot a maze that you haven't solved yet.\n",
    "\n",
    "Then, use your **plot_maze** function to plot the maze defined above, along with the solution path found by **depth-first search**.  You may optionally include the breatdh-first solution as well, but make sure it's clear which path was the depth-first path.\n",
    "\n",
    "\n",
    "<br>\n",
    "\n",
    "**Potentially useful:** \n",
    "\n",
    "[1] In the helpers, you will notice that there are two packages imported:\n",
    "  * `import matplotlib.pyplot as plt`\n",
    "  * `from matplotlib import colors`\n",
    "\n",
    "`pyplot` and `colors` may be potentially useful to you for generating a pretty plot and generating a colormap for your walls/open spaces in the maze, respectively.  You do not need to use them, but I wanted to provide this nudge for folks who maybe have not done much/any plotting in Python before.\n",
    "\n",
    "[2] Also, [Color Oracle](http://colororacle.org/) is a useful utility for making colorblind-friendly plots. If you ever plan to show another human being a figure that you have generated, this is nice practice. Check it out!"
   ]
  },
  {
   "cell_type": "code",
   "execution_count": 137,
   "metadata": {},
   "outputs": [
    {
     "data": {
      "image/png": "[encoded data removed]",
      "text/plain": [
       "<Figure size 432x288 with 1 Axes>"
      ]
     },
     "metadata": {
      "needs_background": "light"
     },
     "output_type": "display_data"
    }
   ],
   "source": [
    "def plot_maze(maze,path, title):\n",
    "    length = len(maze)\n",
    "    for i in range (length):\n",
    "        for j in range(length):\n",
    "            l =[i,j]\n",
    "            tupe = tuple(l)\n",
    "            if tupe in path:\n",
    "                maze[j][i] = 2\n",
    "    \n",
    "    cmap = plt.cm.gray\n",
    "    plt.imshow(maze,  origin='lower')\n",
    "    plt.title(title)\n",
    "    plt.show()\n",
    "    \n",
    "plot_maze(maze, dfs_maze, 'DFS Solution')"
   ]
  }
 ],
 "metadata": {
  "kernelspec": {
   "display_name": "Python 3",
   "language": "python",
   "name": "python3"
  },
  "language_info": {
   "codemirror_mode": {
    "name": "ipython",
    "version": 3
   },
   "file_extension": ".py",
   "mimetype": "text/x-python",
   "name": "python",
   "nbconvert_exporter": "python",
   "pygments_lexer": "ipython3",
   "version": "3.7.4"
  }
 },
 "nbformat": 4,
 "nbformat_minor": 2
}
